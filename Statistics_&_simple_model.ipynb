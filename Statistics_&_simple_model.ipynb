{
  "cells": [
    {
      "cell_type": "markdown",
      "metadata": {
        "id": "1f1yeoVr91P2"
      },
      "source": [
        "# Importing libraries and datasets\n"
      ]
    },
    {
      "cell_type": "code",
      "execution_count": 1,
      "metadata": {
        "colab": {
          "base_uri": "https://localhost:8080/"
        },
        "id": "2xo2jaTazK9E",
        "outputId": "835b5dca-0656-43ab-d223-6b9cd044c9ce"
      },
      "outputs": [
        {
          "output_type": "stream",
          "name": "stdout",
          "text": [
            "Mounted at /content/drive\n"
          ]
        }
      ],
      "source": [
        "import pandas as pd\n",
        "from google.colab import drive\n",
        "\n",
        "drive.mount('/content/drive', force_remount = True)\n",
        "directory = \"/content/drive/MyDrive/Public_folder_Yahoo_RS/\"\n",
        "\n",
        "### Genres ###\n",
        "genres_columns = [\"Id\", \"Parent\", \"Level\", \"Name\"]\n",
        "genres = pd.read_csv(directory + \"genre-hierarchy.txt\", header = None, sep = '\\t', names = genres_columns)\n",
        "### Songs ###\n",
        "songs_columns = [\"Id\", \"Album\", \"Artist\", \"Genre\"]\n",
        "songs = pd.read_csv(directory + \"song-attributes.txt\", header = None, sep = '\\t', names = songs_columns)\n",
        "### Ratings ###\n",
        "ratings_columns = [\"User\", \"Song\", \"Rating\"]\n",
        "ratings = pd.read_csv(directory + \"train_0.txt\", header = None, sep = '\\t', names = ratings_columns)\n",
        "#print(ratings)"
      ]
    },
    {
      "cell_type": "markdown",
      "metadata": {
        "id": "iNoHKNQg93W7"
      },
      "source": [
        "##Usefull information about the dataframes, we have inserted the datasets"
      ]
    },
    {
      "cell_type": "code",
      "execution_count": 2,
      "metadata": {
        "colab": {
          "base_uri": "https://localhost:8080/",
          "height": 710
        },
        "id": "WGGprn4c994V",
        "outputId": "5ab38d03-2589-4255-82a4-cf71d7ae7efd"
      },
      "outputs": [
        {
          "output_type": "stream",
          "name": "stdout",
          "text": [
            "<class 'pandas.core.frame.DataFrame'>\n",
            "RangeIndex: 76344627 entries, 0 to 76344626\n",
            "Data columns (total 3 columns):\n",
            " #   Column  Dtype\n",
            "---  ------  -----\n",
            " 0   User    int64\n",
            " 1   Song    int64\n",
            " 2   Rating  int64\n",
            "dtypes: int64(3)\n",
            "memory usage: 1.7 GB\n",
            "None \n",
            "                User          Song        Rating\n",
            "count  7.634463e+07  7.634463e+07  7.634463e+07\n",
            "mean   1.000409e+05  6.827971e+04  3.153490e+00\n",
            "std    5.775305e+04  3.946131e+04  1.599536e+00\n",
            "min    0.000000e+00  0.000000e+00  1.000000e+00\n",
            "25%    4.984000e+04  3.439300e+04  1.000000e+00\n",
            "50%    1.001390e+05  6.831100e+04  3.000000e+00\n",
            "75%    1.498160e+05  1.023480e+05  5.000000e+00\n",
            "max    1.999990e+05  1.367350e+05  5.000000e+00\n"
          ]
        },
        {
          "output_type": "execute_result",
          "data": {
            "text/plain": [
              "   User   Song  Rating\n",
              "0     0    166       5\n",
              "1     0   2245       4\n",
              "2     0   3637       4\n",
              "3     0   5580       4\n",
              "4     0   5859       4\n",
              "5     0   7121       3\n",
              "6     0  10405       4\n",
              "7     0  16794       5\n",
              "8     0  17821       5\n",
              "9     0  21252       4"
            ],
            "text/html": [
              "\n",
              "  <div id=\"df-3b6dff71-739f-40e3-ba42-eb7af4c06258\">\n",
              "    <div class=\"colab-df-container\">\n",
              "      <div>\n",
              "<style scoped>\n",
              "    .dataframe tbody tr th:only-of-type {\n",
              "        vertical-align: middle;\n",
              "    }\n",
              "\n",
              "    .dataframe tbody tr th {\n",
              "        vertical-align: top;\n",
              "    }\n",
              "\n",
              "    .dataframe thead th {\n",
              "        text-align: right;\n",
              "    }\n",
              "</style>\n",
              "<table border=\"1\" class=\"dataframe\">\n",
              "  <thead>\n",
              "    <tr style=\"text-align: right;\">\n",
              "      <th></th>\n",
              "      <th>User</th>\n",
              "      <th>Song</th>\n",
              "      <th>Rating</th>\n",
              "    </tr>\n",
              "  </thead>\n",
              "  <tbody>\n",
              "    <tr>\n",
              "      <th>0</th>\n",
              "      <td>0</td>\n",
              "      <td>166</td>\n",
              "      <td>5</td>\n",
              "    </tr>\n",
              "    <tr>\n",
              "      <th>1</th>\n",
              "      <td>0</td>\n",
              "      <td>2245</td>\n",
              "      <td>4</td>\n",
              "    </tr>\n",
              "    <tr>\n",
              "      <th>2</th>\n",
              "      <td>0</td>\n",
              "      <td>3637</td>\n",
              "      <td>4</td>\n",
              "    </tr>\n",
              "    <tr>\n",
              "      <th>3</th>\n",
              "      <td>0</td>\n",
              "      <td>5580</td>\n",
              "      <td>4</td>\n",
              "    </tr>\n",
              "    <tr>\n",
              "      <th>4</th>\n",
              "      <td>0</td>\n",
              "      <td>5859</td>\n",
              "      <td>4</td>\n",
              "    </tr>\n",
              "    <tr>\n",
              "      <th>5</th>\n",
              "      <td>0</td>\n",
              "      <td>7121</td>\n",
              "      <td>3</td>\n",
              "    </tr>\n",
              "    <tr>\n",
              "      <th>6</th>\n",
              "      <td>0</td>\n",
              "      <td>10405</td>\n",
              "      <td>4</td>\n",
              "    </tr>\n",
              "    <tr>\n",
              "      <th>7</th>\n",
              "      <td>0</td>\n",
              "      <td>16794</td>\n",
              "      <td>5</td>\n",
              "    </tr>\n",
              "    <tr>\n",
              "      <th>8</th>\n",
              "      <td>0</td>\n",
              "      <td>17821</td>\n",
              "      <td>5</td>\n",
              "    </tr>\n",
              "    <tr>\n",
              "      <th>9</th>\n",
              "      <td>0</td>\n",
              "      <td>21252</td>\n",
              "      <td>4</td>\n",
              "    </tr>\n",
              "  </tbody>\n",
              "</table>\n",
              "</div>\n",
              "      <button class=\"colab-df-convert\" onclick=\"convertToInteractive('df-3b6dff71-739f-40e3-ba42-eb7af4c06258')\"\n",
              "              title=\"Convert this dataframe to an interactive table.\"\n",
              "              style=\"display:none;\">\n",
              "        \n",
              "  <svg xmlns=\"http://www.w3.org/2000/svg\" height=\"24px\"viewBox=\"0 0 24 24\"\n",
              "       width=\"24px\">\n",
              "    <path d=\"M0 0h24v24H0V0z\" fill=\"none\"/>\n",
              "    <path d=\"M18.56 5.44l.94 2.06.94-2.06 2.06-.94-2.06-.94-.94-2.06-.94 2.06-2.06.94zm-11 1L8.5 8.5l.94-2.06 2.06-.94-2.06-.94L8.5 2.5l-.94 2.06-2.06.94zm10 10l.94 2.06.94-2.06 2.06-.94-2.06-.94-.94-2.06-.94 2.06-2.06.94z\"/><path d=\"M17.41 7.96l-1.37-1.37c-.4-.4-.92-.59-1.43-.59-.52 0-1.04.2-1.43.59L10.3 9.45l-7.72 7.72c-.78.78-.78 2.05 0 2.83L4 21.41c.39.39.9.59 1.41.59.51 0 1.02-.2 1.41-.59l7.78-7.78 2.81-2.81c.8-.78.8-2.07 0-2.86zM5.41 20L4 18.59l7.72-7.72 1.47 1.35L5.41 20z\"/>\n",
              "  </svg>\n",
              "      </button>\n",
              "      \n",
              "  <style>\n",
              "    .colab-df-container {\n",
              "      display:flex;\n",
              "      flex-wrap:wrap;\n",
              "      gap: 12px;\n",
              "    }\n",
              "\n",
              "    .colab-df-convert {\n",
              "      background-color: #E8F0FE;\n",
              "      border: none;\n",
              "      border-radius: 50%;\n",
              "      cursor: pointer;\n",
              "      display: none;\n",
              "      fill: #1967D2;\n",
              "      height: 32px;\n",
              "      padding: 0 0 0 0;\n",
              "      width: 32px;\n",
              "    }\n",
              "\n",
              "    .colab-df-convert:hover {\n",
              "      background-color: #E2EBFA;\n",
              "      box-shadow: 0px 1px 2px rgba(60, 64, 67, 0.3), 0px 1px 3px 1px rgba(60, 64, 67, 0.15);\n",
              "      fill: #174EA6;\n",
              "    }\n",
              "\n",
              "    [theme=dark] .colab-df-convert {\n",
              "      background-color: #3B4455;\n",
              "      fill: #D2E3FC;\n",
              "    }\n",
              "\n",
              "    [theme=dark] .colab-df-convert:hover {\n",
              "      background-color: #434B5C;\n",
              "      box-shadow: 0px 1px 3px 1px rgba(0, 0, 0, 0.15);\n",
              "      filter: drop-shadow(0px 1px 2px rgba(0, 0, 0, 0.3));\n",
              "      fill: #FFFFFF;\n",
              "    }\n",
              "  </style>\n",
              "\n",
              "      <script>\n",
              "        const buttonEl =\n",
              "          document.querySelector('#df-3b6dff71-739f-40e3-ba42-eb7af4c06258 button.colab-df-convert');\n",
              "        buttonEl.style.display =\n",
              "          google.colab.kernel.accessAllowed ? 'block' : 'none';\n",
              "\n",
              "        async function convertToInteractive(key) {\n",
              "          const element = document.querySelector('#df-3b6dff71-739f-40e3-ba42-eb7af4c06258');\n",
              "          const dataTable =\n",
              "            await google.colab.kernel.invokeFunction('convertToInteractive',\n",
              "                                                     [key], {});\n",
              "          if (!dataTable) return;\n",
              "\n",
              "          const docLinkHtml = 'Like what you see? Visit the ' +\n",
              "            '<a target=\"_blank\" href=https://colab.research.google.com/notebooks/data_table.ipynb>data table notebook</a>'\n",
              "            + ' to learn more about interactive tables.';\n",
              "          element.innerHTML = '';\n",
              "          dataTable['output_type'] = 'display_data';\n",
              "          await google.colab.output.renderOutput(dataTable, element);\n",
              "          const docLink = document.createElement('div');\n",
              "          docLink.innerHTML = docLinkHtml;\n",
              "          element.appendChild(docLink);\n",
              "        }\n",
              "      </script>\n",
              "    </div>\n",
              "  </div>\n",
              "  "
            ]
          },
          "metadata": {},
          "execution_count": 2
        }
      ],
      "source": [
        "print(ratings.info(),'\\n',ratings.describe())\n",
        "ratings.head(10)"
      ]
    },
    {
      "cell_type": "code",
      "execution_count": 3,
      "metadata": {
        "colab": {
          "base_uri": "https://localhost:8080/",
          "height": 727
        },
        "id": "8Mvri8G0-Aay",
        "outputId": "d69d0f80-4611-4bef-e988-304bbe3c4edd"
      },
      "outputs": [
        {
          "output_type": "stream",
          "name": "stdout",
          "text": [
            "<class 'pandas.core.frame.DataFrame'>\n",
            "RangeIndex: 136736 entries, 0 to 136735\n",
            "Data columns (total 4 columns):\n",
            " #   Column  Non-Null Count   Dtype\n",
            "---  ------  --------------   -----\n",
            " 0   Id      136736 non-null  int64\n",
            " 1   Album   136736 non-null  int64\n",
            " 2   Artist  136736 non-null  int64\n",
            " 3   Genre   136736 non-null  int64\n",
            "dtypes: int64(4)\n",
            "memory usage: 4.2 MB\n",
            "None \n",
            "                   Id          Album         Artist          Genre\n",
            "count  136736.000000  136736.000000  136736.000000  136736.000000\n",
            "mean    68367.500000   10289.869252    4822.384281      15.154685\n",
            "std     39472.427541    5894.572562    2692.923980      40.874536\n",
            "min         0.000000       0.000000       0.000000       0.000000\n",
            "25%     34183.750000    5210.750000    2536.000000       0.000000\n",
            "50%     68367.500000   10255.000000    4941.000000       0.000000\n",
            "75%    102551.250000   15406.000000    7088.000000       0.000000\n",
            "max    136735.000000   20542.000000    9441.000000     215.000000\n"
          ]
        },
        {
          "output_type": "execute_result",
          "data": {
            "text/plain": [
              "   Id  Album  Artist  Genre\n",
              "0   0  12070    8490      0\n",
              "1   1  19512    7975    134\n",
              "2   2  18953    3492      0\n",
              "3   3    695    2653      0\n",
              "4   4    243    2282      0\n",
              "5   5   7783    3832      0\n",
              "6   6  11704    1655    106\n",
              "7   7  10126    6328    114\n",
              "8   8  10672    4121      0\n",
              "9   9  12302    9197     54"
            ],
            "text/html": [
              "\n",
              "  <div id=\"df-003e9c8e-9dba-4e3c-83a7-3ef647e7efd2\">\n",
              "    <div class=\"colab-df-container\">\n",
              "      <div>\n",
              "<style scoped>\n",
              "    .dataframe tbody tr th:only-of-type {\n",
              "        vertical-align: middle;\n",
              "    }\n",
              "\n",
              "    .dataframe tbody tr th {\n",
              "        vertical-align: top;\n",
              "    }\n",
              "\n",
              "    .dataframe thead th {\n",
              "        text-align: right;\n",
              "    }\n",
              "</style>\n",
              "<table border=\"1\" class=\"dataframe\">\n",
              "  <thead>\n",
              "    <tr style=\"text-align: right;\">\n",
              "      <th></th>\n",
              "      <th>Id</th>\n",
              "      <th>Album</th>\n",
              "      <th>Artist</th>\n",
              "      <th>Genre</th>\n",
              "    </tr>\n",
              "  </thead>\n",
              "  <tbody>\n",
              "    <tr>\n",
              "      <th>0</th>\n",
              "      <td>0</td>\n",
              "      <td>12070</td>\n",
              "      <td>8490</td>\n",
              "      <td>0</td>\n",
              "    </tr>\n",
              "    <tr>\n",
              "      <th>1</th>\n",
              "      <td>1</td>\n",
              "      <td>19512</td>\n",
              "      <td>7975</td>\n",
              "      <td>134</td>\n",
              "    </tr>\n",
              "    <tr>\n",
              "      <th>2</th>\n",
              "      <td>2</td>\n",
              "      <td>18953</td>\n",
              "      <td>3492</td>\n",
              "      <td>0</td>\n",
              "    </tr>\n",
              "    <tr>\n",
              "      <th>3</th>\n",
              "      <td>3</td>\n",
              "      <td>695</td>\n",
              "      <td>2653</td>\n",
              "      <td>0</td>\n",
              "    </tr>\n",
              "    <tr>\n",
              "      <th>4</th>\n",
              "      <td>4</td>\n",
              "      <td>243</td>\n",
              "      <td>2282</td>\n",
              "      <td>0</td>\n",
              "    </tr>\n",
              "    <tr>\n",
              "      <th>5</th>\n",
              "      <td>5</td>\n",
              "      <td>7783</td>\n",
              "      <td>3832</td>\n",
              "      <td>0</td>\n",
              "    </tr>\n",
              "    <tr>\n",
              "      <th>6</th>\n",
              "      <td>6</td>\n",
              "      <td>11704</td>\n",
              "      <td>1655</td>\n",
              "      <td>106</td>\n",
              "    </tr>\n",
              "    <tr>\n",
              "      <th>7</th>\n",
              "      <td>7</td>\n",
              "      <td>10126</td>\n",
              "      <td>6328</td>\n",
              "      <td>114</td>\n",
              "    </tr>\n",
              "    <tr>\n",
              "      <th>8</th>\n",
              "      <td>8</td>\n",
              "      <td>10672</td>\n",
              "      <td>4121</td>\n",
              "      <td>0</td>\n",
              "    </tr>\n",
              "    <tr>\n",
              "      <th>9</th>\n",
              "      <td>9</td>\n",
              "      <td>12302</td>\n",
              "      <td>9197</td>\n",
              "      <td>54</td>\n",
              "    </tr>\n",
              "  </tbody>\n",
              "</table>\n",
              "</div>\n",
              "      <button class=\"colab-df-convert\" onclick=\"convertToInteractive('df-003e9c8e-9dba-4e3c-83a7-3ef647e7efd2')\"\n",
              "              title=\"Convert this dataframe to an interactive table.\"\n",
              "              style=\"display:none;\">\n",
              "        \n",
              "  <svg xmlns=\"http://www.w3.org/2000/svg\" height=\"24px\"viewBox=\"0 0 24 24\"\n",
              "       width=\"24px\">\n",
              "    <path d=\"M0 0h24v24H0V0z\" fill=\"none\"/>\n",
              "    <path d=\"M18.56 5.44l.94 2.06.94-2.06 2.06-.94-2.06-.94-.94-2.06-.94 2.06-2.06.94zm-11 1L8.5 8.5l.94-2.06 2.06-.94-2.06-.94L8.5 2.5l-.94 2.06-2.06.94zm10 10l.94 2.06.94-2.06 2.06-.94-2.06-.94-.94-2.06-.94 2.06-2.06.94z\"/><path d=\"M17.41 7.96l-1.37-1.37c-.4-.4-.92-.59-1.43-.59-.52 0-1.04.2-1.43.59L10.3 9.45l-7.72 7.72c-.78.78-.78 2.05 0 2.83L4 21.41c.39.39.9.59 1.41.59.51 0 1.02-.2 1.41-.59l7.78-7.78 2.81-2.81c.8-.78.8-2.07 0-2.86zM5.41 20L4 18.59l7.72-7.72 1.47 1.35L5.41 20z\"/>\n",
              "  </svg>\n",
              "      </button>\n",
              "      \n",
              "  <style>\n",
              "    .colab-df-container {\n",
              "      display:flex;\n",
              "      flex-wrap:wrap;\n",
              "      gap: 12px;\n",
              "    }\n",
              "\n",
              "    .colab-df-convert {\n",
              "      background-color: #E8F0FE;\n",
              "      border: none;\n",
              "      border-radius: 50%;\n",
              "      cursor: pointer;\n",
              "      display: none;\n",
              "      fill: #1967D2;\n",
              "      height: 32px;\n",
              "      padding: 0 0 0 0;\n",
              "      width: 32px;\n",
              "    }\n",
              "\n",
              "    .colab-df-convert:hover {\n",
              "      background-color: #E2EBFA;\n",
              "      box-shadow: 0px 1px 2px rgba(60, 64, 67, 0.3), 0px 1px 3px 1px rgba(60, 64, 67, 0.15);\n",
              "      fill: #174EA6;\n",
              "    }\n",
              "\n",
              "    [theme=dark] .colab-df-convert {\n",
              "      background-color: #3B4455;\n",
              "      fill: #D2E3FC;\n",
              "    }\n",
              "\n",
              "    [theme=dark] .colab-df-convert:hover {\n",
              "      background-color: #434B5C;\n",
              "      box-shadow: 0px 1px 3px 1px rgba(0, 0, 0, 0.15);\n",
              "      filter: drop-shadow(0px 1px 2px rgba(0, 0, 0, 0.3));\n",
              "      fill: #FFFFFF;\n",
              "    }\n",
              "  </style>\n",
              "\n",
              "      <script>\n",
              "        const buttonEl =\n",
              "          document.querySelector('#df-003e9c8e-9dba-4e3c-83a7-3ef647e7efd2 button.colab-df-convert');\n",
              "        buttonEl.style.display =\n",
              "          google.colab.kernel.accessAllowed ? 'block' : 'none';\n",
              "\n",
              "        async function convertToInteractive(key) {\n",
              "          const element = document.querySelector('#df-003e9c8e-9dba-4e3c-83a7-3ef647e7efd2');\n",
              "          const dataTable =\n",
              "            await google.colab.kernel.invokeFunction('convertToInteractive',\n",
              "                                                     [key], {});\n",
              "          if (!dataTable) return;\n",
              "\n",
              "          const docLinkHtml = 'Like what you see? Visit the ' +\n",
              "            '<a target=\"_blank\" href=https://colab.research.google.com/notebooks/data_table.ipynb>data table notebook</a>'\n",
              "            + ' to learn more about interactive tables.';\n",
              "          element.innerHTML = '';\n",
              "          dataTable['output_type'] = 'display_data';\n",
              "          await google.colab.output.renderOutput(dataTable, element);\n",
              "          const docLink = document.createElement('div');\n",
              "          docLink.innerHTML = docLinkHtml;\n",
              "          element.appendChild(docLink);\n",
              "        }\n",
              "      </script>\n",
              "    </div>\n",
              "  </div>\n",
              "  "
            ]
          },
          "metadata": {},
          "execution_count": 3
        }
      ],
      "source": [
        "print(songs.info(),'\\n',songs.describe())\n",
        "songs.head(10)"
      ]
    },
    {
      "cell_type": "code",
      "execution_count": 4,
      "metadata": {
        "colab": {
          "base_uri": "https://localhost:8080/",
          "height": 727
        },
        "id": "j9ANfbxw-DTD",
        "outputId": "7017933d-0919-4522-e8f7-d27169729443"
      },
      "outputs": [
        {
          "output_type": "stream",
          "name": "stdout",
          "text": [
            "<class 'pandas.core.frame.DataFrame'>\n",
            "RangeIndex: 216 entries, 0 to 215\n",
            "Data columns (total 4 columns):\n",
            " #   Column  Non-Null Count  Dtype \n",
            "---  ------  --------------  ----- \n",
            " 0   Id      216 non-null    int64 \n",
            " 1   Parent  216 non-null    int64 \n",
            " 2   Level   216 non-null    int64 \n",
            " 3   Name    216 non-null    object\n",
            "dtypes: int64(3), object(1)\n",
            "memory usage: 6.9+ KB\n",
            "None \n",
            "             Id      Parent       Level\n",
            "count  216.000  216.000000  216.000000\n",
            "mean   107.500  101.430556    2.212963\n",
            "std     62.498   61.875380    0.595345\n",
            "min      0.000    0.000000    1.000000\n",
            "25%     53.750   52.250000    2.000000\n",
            "50%    107.500  106.000000    2.000000\n",
            "75%    161.250  148.000000    3.000000\n",
            "max    215.000  211.000000    3.000000\n"
          ]
        },
        {
          "output_type": "execute_result",
          "data": {
            "text/plain": [
              "   Id  Parent  Level                      Name\n",
              "0   0       0      1                   Unknown\n",
              "1   1       1      1          Electronic/Dance\n",
              "2   2       1      2                   Ambient\n",
              "3   3       2      3               Ambient Dub\n",
              "4   4       2      3              Ambient Tech\n",
              "5   5       1      2                    Breaks\n",
              "6   6       1      2  Jungle / Drum &amp; Bass\n",
              "7   7       1      2                     House\n",
              "8   8       7      3                Deep House\n",
              "9   9       7      3                Tech House"
            ],
            "text/html": [
              "\n",
              "  <div id=\"df-4d4359f2-951d-49e7-b936-d0ec8b3a5676\">\n",
              "    <div class=\"colab-df-container\">\n",
              "      <div>\n",
              "<style scoped>\n",
              "    .dataframe tbody tr th:only-of-type {\n",
              "        vertical-align: middle;\n",
              "    }\n",
              "\n",
              "    .dataframe tbody tr th {\n",
              "        vertical-align: top;\n",
              "    }\n",
              "\n",
              "    .dataframe thead th {\n",
              "        text-align: right;\n",
              "    }\n",
              "</style>\n",
              "<table border=\"1\" class=\"dataframe\">\n",
              "  <thead>\n",
              "    <tr style=\"text-align: right;\">\n",
              "      <th></th>\n",
              "      <th>Id</th>\n",
              "      <th>Parent</th>\n",
              "      <th>Level</th>\n",
              "      <th>Name</th>\n",
              "    </tr>\n",
              "  </thead>\n",
              "  <tbody>\n",
              "    <tr>\n",
              "      <th>0</th>\n",
              "      <td>0</td>\n",
              "      <td>0</td>\n",
              "      <td>1</td>\n",
              "      <td>Unknown</td>\n",
              "    </tr>\n",
              "    <tr>\n",
              "      <th>1</th>\n",
              "      <td>1</td>\n",
              "      <td>1</td>\n",
              "      <td>1</td>\n",
              "      <td>Electronic/Dance</td>\n",
              "    </tr>\n",
              "    <tr>\n",
              "      <th>2</th>\n",
              "      <td>2</td>\n",
              "      <td>1</td>\n",
              "      <td>2</td>\n",
              "      <td>Ambient</td>\n",
              "    </tr>\n",
              "    <tr>\n",
              "      <th>3</th>\n",
              "      <td>3</td>\n",
              "      <td>2</td>\n",
              "      <td>3</td>\n",
              "      <td>Ambient Dub</td>\n",
              "    </tr>\n",
              "    <tr>\n",
              "      <th>4</th>\n",
              "      <td>4</td>\n",
              "      <td>2</td>\n",
              "      <td>3</td>\n",
              "      <td>Ambient Tech</td>\n",
              "    </tr>\n",
              "    <tr>\n",
              "      <th>5</th>\n",
              "      <td>5</td>\n",
              "      <td>1</td>\n",
              "      <td>2</td>\n",
              "      <td>Breaks</td>\n",
              "    </tr>\n",
              "    <tr>\n",
              "      <th>6</th>\n",
              "      <td>6</td>\n",
              "      <td>1</td>\n",
              "      <td>2</td>\n",
              "      <td>Jungle / Drum &amp;amp; Bass</td>\n",
              "    </tr>\n",
              "    <tr>\n",
              "      <th>7</th>\n",
              "      <td>7</td>\n",
              "      <td>1</td>\n",
              "      <td>2</td>\n",
              "      <td>House</td>\n",
              "    </tr>\n",
              "    <tr>\n",
              "      <th>8</th>\n",
              "      <td>8</td>\n",
              "      <td>7</td>\n",
              "      <td>3</td>\n",
              "      <td>Deep House</td>\n",
              "    </tr>\n",
              "    <tr>\n",
              "      <th>9</th>\n",
              "      <td>9</td>\n",
              "      <td>7</td>\n",
              "      <td>3</td>\n",
              "      <td>Tech House</td>\n",
              "    </tr>\n",
              "  </tbody>\n",
              "</table>\n",
              "</div>\n",
              "      <button class=\"colab-df-convert\" onclick=\"convertToInteractive('df-4d4359f2-951d-49e7-b936-d0ec8b3a5676')\"\n",
              "              title=\"Convert this dataframe to an interactive table.\"\n",
              "              style=\"display:none;\">\n",
              "        \n",
              "  <svg xmlns=\"http://www.w3.org/2000/svg\" height=\"24px\"viewBox=\"0 0 24 24\"\n",
              "       width=\"24px\">\n",
              "    <path d=\"M0 0h24v24H0V0z\" fill=\"none\"/>\n",
              "    <path d=\"M18.56 5.44l.94 2.06.94-2.06 2.06-.94-2.06-.94-.94-2.06-.94 2.06-2.06.94zm-11 1L8.5 8.5l.94-2.06 2.06-.94-2.06-.94L8.5 2.5l-.94 2.06-2.06.94zm10 10l.94 2.06.94-2.06 2.06-.94-2.06-.94-.94-2.06-.94 2.06-2.06.94z\"/><path d=\"M17.41 7.96l-1.37-1.37c-.4-.4-.92-.59-1.43-.59-.52 0-1.04.2-1.43.59L10.3 9.45l-7.72 7.72c-.78.78-.78 2.05 0 2.83L4 21.41c.39.39.9.59 1.41.59.51 0 1.02-.2 1.41-.59l7.78-7.78 2.81-2.81c.8-.78.8-2.07 0-2.86zM5.41 20L4 18.59l7.72-7.72 1.47 1.35L5.41 20z\"/>\n",
              "  </svg>\n",
              "      </button>\n",
              "      \n",
              "  <style>\n",
              "    .colab-df-container {\n",
              "      display:flex;\n",
              "      flex-wrap:wrap;\n",
              "      gap: 12px;\n",
              "    }\n",
              "\n",
              "    .colab-df-convert {\n",
              "      background-color: #E8F0FE;\n",
              "      border: none;\n",
              "      border-radius: 50%;\n",
              "      cursor: pointer;\n",
              "      display: none;\n",
              "      fill: #1967D2;\n",
              "      height: 32px;\n",
              "      padding: 0 0 0 0;\n",
              "      width: 32px;\n",
              "    }\n",
              "\n",
              "    .colab-df-convert:hover {\n",
              "      background-color: #E2EBFA;\n",
              "      box-shadow: 0px 1px 2px rgba(60, 64, 67, 0.3), 0px 1px 3px 1px rgba(60, 64, 67, 0.15);\n",
              "      fill: #174EA6;\n",
              "    }\n",
              "\n",
              "    [theme=dark] .colab-df-convert {\n",
              "      background-color: #3B4455;\n",
              "      fill: #D2E3FC;\n",
              "    }\n",
              "\n",
              "    [theme=dark] .colab-df-convert:hover {\n",
              "      background-color: #434B5C;\n",
              "      box-shadow: 0px 1px 3px 1px rgba(0, 0, 0, 0.15);\n",
              "      filter: drop-shadow(0px 1px 2px rgba(0, 0, 0, 0.3));\n",
              "      fill: #FFFFFF;\n",
              "    }\n",
              "  </style>\n",
              "\n",
              "      <script>\n",
              "        const buttonEl =\n",
              "          document.querySelector('#df-4d4359f2-951d-49e7-b936-d0ec8b3a5676 button.colab-df-convert');\n",
              "        buttonEl.style.display =\n",
              "          google.colab.kernel.accessAllowed ? 'block' : 'none';\n",
              "\n",
              "        async function convertToInteractive(key) {\n",
              "          const element = document.querySelector('#df-4d4359f2-951d-49e7-b936-d0ec8b3a5676');\n",
              "          const dataTable =\n",
              "            await google.colab.kernel.invokeFunction('convertToInteractive',\n",
              "                                                     [key], {});\n",
              "          if (!dataTable) return;\n",
              "\n",
              "          const docLinkHtml = 'Like what you see? Visit the ' +\n",
              "            '<a target=\"_blank\" href=https://colab.research.google.com/notebooks/data_table.ipynb>data table notebook</a>'\n",
              "            + ' to learn more about interactive tables.';\n",
              "          element.innerHTML = '';\n",
              "          dataTable['output_type'] = 'display_data';\n",
              "          await google.colab.output.renderOutput(dataTable, element);\n",
              "          const docLink = document.createElement('div');\n",
              "          docLink.innerHTML = docLinkHtml;\n",
              "          element.appendChild(docLink);\n",
              "        }\n",
              "      </script>\n",
              "    </div>\n",
              "  </div>\n",
              "  "
            ]
          },
          "metadata": {},
          "execution_count": 4
        }
      ],
      "source": [
        "print(genres.info(),'\\n',genres.describe())\n",
        "genres.head(10)"
      ]
    },
    {
      "cell_type": "markdown",
      "metadata": {
        "id": "QaGWI9rz-KeT"
      },
      "source": [
        "###Find the ratings every user makes - print the number of ratings of the 10 first users"
      ]
    },
    {
      "cell_type": "code",
      "execution_count": 5,
      "metadata": {
        "colab": {
          "base_uri": "https://localhost:8080/"
        },
        "id": "oTApSi4t-SIz",
        "outputId": "4cb7e483-9d19-4381-8db1-56cf19d6281a"
      },
      "outputs": [
        {
          "output_type": "stream",
          "name": "stdout",
          "text": [
            "2021\n"
          ]
        },
        {
          "output_type": "execute_result",
          "data": {
            "text/plain": [
              "[34, 387, 358, 122, 70, 21, 1349, 125, 70, 539]"
            ]
          },
          "metadata": {},
          "execution_count": 5
        }
      ],
      "source": [
        "usersnumratings = []   #number of ratings every user has made\n",
        "cnt=0\n",
        "#int(len(ratings['User'])/100)\n",
        "for i in range(int(len(ratings['User'])/100)):  #logicous xronous pairname gia int(len(ratings['User'])/x) opou x>=100. tote int(len(ratings['User'])/100)=763446 , lamvanoume 2021 diaforetika ratings apo 2021 diaforetikous xrhstes\n",
        "  if ratings['User'][i]==ratings['User'][i+1]:\n",
        "    cnt+=1\n",
        "  else:\n",
        "    usersnumratings.append(cnt+1)\n",
        "    cnt=0\n",
        "print(len(usersnumratings))\n",
        "usersnumratings[0:10]"
      ]
    },
    {
      "cell_type": "code",
      "execution_count": 6,
      "metadata": {
        "colab": {
          "base_uri": "https://localhost:8080/"
        },
        "id": "0_qmBowR-W72",
        "outputId": "dd9fa3e8-6523-436b-c922-01ac4a3761a5"
      },
      "outputs": [
        {
          "output_type": "stream",
          "name": "stdout",
          "text": [
            "[1, 2, 3, 6, 7, 9, 10, 11, 12, 13] 1296\n"
          ]
        }
      ],
      "source": [
        "l=[]\n",
        "mean,cnt=165,0\n",
        "for i in range(int(len(ratings['User'])/100)):\n",
        "  if ratings['User'][i]==ratings['User'][i+1]:\n",
        "    cnt+=1\n",
        "  else:\n",
        "    if cnt>=int(mean/2) :\n",
        "      l.append(ratings['User'][i])\n",
        "      cnt=0\n",
        "    else:\n",
        "      cnt=0 \n",
        "      \n",
        "print(l[0:10], len(l))   #id's users with ratings more than half of mean value of int(165/2)=82"
      ]
    },
    {
      "cell_type": "markdown",
      "metadata": {
        "id": "scxWwYg6-aZh"
      },
      "source": [
        "###So, as we can observe , the first user (id=0), voted for 34 different songs , the second for 387 songs , etc ... \n",
        "###The mean value of all these ratings is :"
      ]
    },
    {
      "cell_type": "code",
      "execution_count": 7,
      "metadata": {
        "colab": {
          "base_uri": "https://localhost:8080/"
        },
        "id": "UHxwylyU-gck",
        "outputId": "c410490b-db28-4783-95ba-412eb7352a43"
      },
      "outputs": [
        {
          "output_type": "stream",
          "name": "stdout",
          "text": [
            "Mean value: 374.71 \n",
            "Standard deviation: 777.6 \n",
            "Most common value: 20\n"
          ]
        }
      ],
      "source": [
        "from statistics import mean,pstdev,mode\n",
        "print('Mean value:', round(mean(usersnumratings),2), '\\nStandard deviation:', round(pstdev(usersnumratings),2) ,'\\nMost common value:', mode(usersnumratings))"
      ]
    },
    {
      "cell_type": "markdown",
      "metadata": {
        "id": "NNy36fu0-oa0"
      },
      "source": [
        "###So on avergae every user has rated \n",
        "\n",
        "*   Στοιχείο λίστας\n",
        "*   Στοιχείο λίστας\n",
        "\n",
        "165 songs , with a standard deviation of 150. So the number of ratings of the existed users are a lot spreaded from the mean value."
      ]
    },
    {
      "cell_type": "code",
      "execution_count": 8,
      "metadata": {
        "colab": {
          "base_uri": "https://localhost:8080/",
          "height": 312
        },
        "id": "027afmLf-qMc",
        "outputId": "230063db-322f-4228-a0ef-b143293b3431"
      },
      "outputs": [
        {
          "output_type": "execute_result",
          "data": {
            "text/plain": [
              "Text(0.5, 0, 'Number of Ratings a user made')"
            ]
          },
          "metadata": {},
          "execution_count": 8
        },
        {
          "output_type": "display_data",
          "data": {
            "text/plain": [
              "<Figure size 432x288 with 1 Axes>"
            ],
            "image/png": "[encoded data removed]"
          },
          "metadata": {
            "needs_background": "light"
          }
        }
      ],
      "source": [
        "import matplotlib.pyplot as plt\n",
        "import seaborn as sns\n",
        "\n",
        "#plot for the ratings of the first 10 users \n",
        "plt.hist(usersnumratings[0:10])   #np.random.normal(170, 10, 250)\n",
        "plt.title('Histogram of num_ratings of the first 10 Users')\n",
        "plt.ylabel('Number of users')\n",
        "plt.xlabel('Number of Ratings a user made')"
      ]
    },
    {
      "cell_type": "code",
      "execution_count": 9,
      "metadata": {
        "colab": {
          "base_uri": "https://localhost:8080/",
          "height": 295
        },
        "id": "PEmbGDJL-_dd",
        "outputId": "6169bed2-8a66-49a9-8bf9-61bcbdf6053f"
      },
      "outputs": [
        {
          "output_type": "display_data",
          "data": {
            "text/plain": [
              "<Figure size 432x288 with 1 Axes>"
            ],
            "image/png": "[encoded data removed]"
          },
          "metadata": {
            "needs_background": "light"
          }
        }
      ],
      "source": [
        "import numpy as np\n",
        "np_usersnumratings = np.array(usersnumratings)\n",
        "#np_usersnumratings\n",
        "\n",
        "plt.hist(np_usersnumratings, color='DarkBlue',bins=500,range=(1,10000))\n",
        "plt.title('Histogram of num_ratings of the first 2021 Users')\n",
        "plt.ylabel('Number of users')\n",
        "plt.xlabel('Number of Ratings a user made')\n",
        "plt.xlim(0,5000)\n",
        "plt.show()"
      ]
    },
    {
      "cell_type": "code",
      "execution_count": 10,
      "metadata": {
        "colab": {
          "base_uri": "https://localhost:8080/",
          "height": 295
        },
        "id": "rdeQ7FhW_TyZ",
        "outputId": "a3d6d05a-e1e9-4916-c69b-d2e80ecb03dd"
      },
      "outputs": [
        {
          "output_type": "display_data",
          "data": {
            "text/plain": [
              "<Figure size 432x288 with 1 Axes>"
            ],
            "image/png": "[encoded data removed]"
          },
          "metadata": {
            "needs_background": "light"
          }
        }
      ],
      "source": [
        "plt.hist(np_usersnumratings, color='DarkBlue',bins=500,range=(1,10000))\n",
        "plt.title('Histogram of num_ratings of the first 2021 Users with logarithmic scale')\n",
        "plt.ylabel('Number of users')\n",
        "plt.xlabel('Number of Ratings a user made')\n",
        "plt.yscale('symlog')                            #using logarithmic scale\n",
        "plt.xlim(0,5000)\n",
        "plt.show()"
      ]
    },
    {
      "cell_type": "code",
      "execution_count": 11,
      "metadata": {
        "colab": {
          "base_uri": "https://localhost:8080/",
          "height": 312
        },
        "id": "H4_Ie-ze_dsP",
        "outputId": "546ca015-dfbd-4cdd-ace4-f88d8d268310"
      },
      "outputs": [
        {
          "output_type": "execute_result",
          "data": {
            "text/plain": [
              "Text(0, 0.5, 'Number of Ratings a user made')"
            ]
          },
          "metadata": {},
          "execution_count": 11
        },
        {
          "output_type": "display_data",
          "data": {
            "text/plain": [
              "<Figure size 432x288 with 1 Axes>"
            ],
            "image/png": "[encoded data removed]"
          },
          "metadata": {
            "needs_background": "light"
          }
        }
      ],
      "source": [
        "plt.scatter([i for i in range(0,len(usersnumratings))],usersnumratings)\n",
        "plt.title('Scatter-plot of num_ratings of the first 2021 Users')\n",
        "plt.xlabel('Number of users')\n",
        "plt.ylabel('Number of Ratings a user made')"
      ]
    },
    {
      "cell_type": "markdown",
      "metadata": {
        "id": "salgg10j_xGa"
      },
      "source": [
        "###We can observe that are very little few users who have visited a huge number of songs , in comparison with the mean value (165). Although , most of the users have voted under 1000 songs"
      ]
    },
    {
      "cell_type": "markdown",
      "metadata": {
        "id": "3kr68dtM-aYK"
      },
      "source": [
        "# Finding the range of users and songs"
      ]
    },
    {
      "cell_type": "code",
      "execution_count": 12,
      "metadata": {
        "colab": {
          "base_uri": "https://localhost:8080/"
        },
        "id": "oJ0MP5Kr6-e4",
        "outputId": "0ccb6023-f90e-4f48-9bb8-87b38b85258f"
      },
      "outputs": [
        {
          "output_type": "stream",
          "name": "stdout",
          "text": [
            "Minimum user ID :0\n",
            "Maximum user ID :199999\n",
            "Minimum song ID :0\n",
            "Maximum song ID :136735\n"
          ]
        }
      ],
      "source": [
        "import numpy as np\n",
        "np_ratings = np.array(ratings)\n",
        "\n",
        "maximum_user = 0\n",
        "minimum_user = 1000000\n",
        "maximum_song = 0\n",
        "minimum_song = 1000000\n",
        "for rating in np_ratings:\n",
        "    maximum_user = max(maximum_user, rating[0])\n",
        "    minimum_user = min(minimum_user, rating[0])\n",
        "    maximum_song = max(maximum_song, rating[1])\n",
        "    minimum_song = min(minimum_song, rating[1])\n",
        "    \n",
        "print(\"Minimum user ID :\" + str(minimum_user))\n",
        "print(\"Maximum user ID :\" + str(maximum_user))\n",
        "print(\"Minimum song ID :\" + str(minimum_song))\n",
        "print(\"Maximum song ID :\" + str(maximum_song))"
      ]
    },
    {
      "cell_type": "markdown",
      "metadata": {
        "id": "u96hwPXF-sOk"
      },
      "source": [
        "# Searching for the optimal dimensions, taking the memory and the time limits into consideration"
      ]
    },
    {
      "cell_type": "code",
      "execution_count": 13,
      "metadata": {
        "colab": {
          "base_uri": "https://localhost:8080/"
        },
        "id": "l5AlWXbu7jLM",
        "outputId": "75eac012-4ba6-4965-8c87-b0757bf43178"
      },
      "outputs": [
        {
          "output_type": "stream",
          "name": "stdout",
          "text": [
            "1000\n",
            "success\n",
            "2000\n",
            "success\n"
          ]
        }
      ],
      "source": [
        "limit_for_cells = 300000000\n",
        "total_users = [1000, 2000, 5000, 10000, 20000, 50000]\n",
        "\n",
        "for limit_for_users in total_users:\n",
        "    song_list = []\n",
        "    for rating in np_ratings:\n",
        "        if(rating[0] < limit_for_users):\n",
        "            song_list.append(rating[1])\n",
        "        else:\n",
        "            break\n",
        "    np_song_list = np.unique(np.array(song_list))\n",
        "    if(limit_for_users * len(np_song_list) < limit_for_cells):\n",
        "        print(str(limit_for_users))\n",
        "        print(\"success\")"
      ]
    },
    {
      "cell_type": "markdown",
      "metadata": {
        "id": "fdtXXiL__V0A"
      },
      "source": [
        "# Presenting the matrix shape"
      ]
    },
    {
      "cell_type": "code",
      "execution_count": 14,
      "metadata": {
        "colab": {
          "base_uri": "https://localhost:8080/"
        },
        "id": "nSZpx1aA7sms",
        "outputId": "890ac06a-1620-49de-c9e7-05f140467b62"
      },
      "outputs": [
        {
          "output_type": "stream",
          "name": "stdout",
          "text": [
            "Matrix columns(users) X lines(total songs being rated): 1000 X 97739\n",
            "\n",
            "Matrix total size : 97739000 , number of cells = 195478000 B = 195.478 MB\n"
          ]
        }
      ],
      "source": [
        "limit_for_users = 1000\n",
        "song_list = []\n",
        "for rating in np_ratings:\n",
        "    if(rating[0] < limit_for_users):\n",
        "        song_list.append(rating[1])\n",
        "    else:\n",
        "        break\n",
        "np_song_list = np.sort(np.unique(np.array(song_list)))\n",
        "\n",
        "matrix = np.zeros((limit_for_users, len(np_song_list)), dtype = np.ushort)\n",
        "matrix_in_bytes = limit_for_users * len(np_song_list) * matrix.itemsize\n",
        "print(\"Matrix columns(users) X lines(total songs being rated): \" + str(len(matrix)) +\" X \"+ str(len(matrix[0])) +\"\\n\\n\" + \"Matrix total size : \" + str(limit_for_users * len(np_song_list)) + \" , number of cells = \"+ str(matrix_in_bytes) + \" B = \" + str(matrix_in_bytes / 1000000) + \" MB\")"
      ]
    },
    {
      "cell_type": "markdown",
      "metadata": {
        "id": "46Ou6CfAUvAZ"
      },
      "source": [
        "# Preprocessing the genre and the song table"
      ]
    },
    {
      "cell_type": "code",
      "execution_count": 15,
      "metadata": {
        "colab": {
          "base_uri": "https://localhost:8080/"
        },
        "id": "pit7asgSU14A",
        "outputId": "208e0218-fdbe-485f-e00d-579b2c0ac826"
      },
      "outputs": [
        {
          "output_type": "stream",
          "name": "stdout",
          "text": [
            "Genre with id = 8 : House\n",
            "The root of this genre is : Electronic/Dance\n"
          ]
        }
      ],
      "source": [
        "### Finding the root of each genre ###\n",
        "np_genres = np.array(genres)\n",
        "roots = []\n",
        "for genre in np_genres:\n",
        "    current = genre[0]\n",
        "    parent = genre[1]\n",
        "    while(current != parent):\n",
        "        current = parent\n",
        "        parent = np_genres[current][1]\n",
        "    roots.append(current)\n",
        "print(\"Genre with id = 8 : \" + str(np_genres[7][3]))\n",
        "print(\"The root of this genre is : \" + str(np_genres[roots[7]][3]))"
      ]
    },
    {
      "cell_type": "code",
      "execution_count": 16,
      "metadata": {
        "id": "TYh8AtLwDz46"
      },
      "outputs": [],
      "source": [
        "### Replacing the genre of every song with the root of the genre ###\n",
        "np_songs = np.array(songs)\n",
        "for song in range(len(np_songs)):\n",
        "    np_songs[song][3] = roots[np_songs[song][3]]"
      ]
    },
    {
      "cell_type": "markdown",
      "metadata": {
        "id": "uQhu35OqYuLC"
      },
      "source": [
        "# Initializing the matrix with the ratings and computing the mean(ratings) by user and genre"
      ]
    },
    {
      "cell_type": "code",
      "execution_count": 17,
      "metadata": {
        "colab": {
          "base_uri": "https://localhost:8080/"
        },
        "id": "7UQpHj_D7u_k",
        "outputId": "650493b1-7d4b-4e42-93d1-aa7655ce312c"
      },
      "outputs": [
        {
          "output_type": "stream",
          "name": "stdout",
          "text": [
            "The user with id = 0 has mean(rating) = 4.5 in genre with id = 135\n"
          ]
        }
      ],
      "source": [
        "songs_dictionary = {}\n",
        "for j in range(len(np_song_list)):\n",
        "    songs_dictionary[np_song_list[j]] = j\n",
        "\n",
        "### These two dictionaries will help us compute the mean(rating) of every user, depending on the genre of the song ###\n",
        "### ratings_sum_by_genre : {'i-j': a} means that the user i has total sum(rating) = a in genre j ###\n",
        "### ratings_by_genre : {'i-j': a} means that the user i has rated a songs with genre j ###\n",
        "ratings_sum_by_genre = {}\n",
        "ratings_by_genre = {}\n",
        "for user in range(limit_for_users):\n",
        "    for genre in np.sort(np.unique(np.array(roots))):\n",
        "        ratings_sum_by_genre[str(user) + \"-\" + str(genre)] = 0\n",
        "        ratings_by_genre[str(user) + \"-\" + str(genre)] = 0\n",
        "\n",
        "for rating in np_ratings:\n",
        "    if(rating[0] < limit_for_users):\n",
        "        matrix[rating[0]][songs_dictionary[rating[1]]] = np.ushort(rating[2])\n",
        "        ratings_sum_by_genre[str(rating[0]) + \"-\" + str(np_songs[rating[1]][3])] += np.ushort(rating[2])\n",
        "        ratings_by_genre[str(rating[0]) + \"-\" + str(np_songs[rating[1]][3])] += 1\n",
        "\n",
        "### Finally the division (ratings_sum_by_genre / ratings_by_genre) will give us the mean(rating) by user and genre ###\n",
        "for rating in ratings_sum_by_genre:\n",
        "    if(ratings_by_genre[rating] != 0):\n",
        "        ratings_sum_by_genre[rating] /= ratings_by_genre[rating]\n",
        "print(\"The user with id = 0 has mean(rating) = \" + str(ratings_sum_by_genre['0-134']) + \" in genre with id = 135\")"
      ]
    },
    {
      "cell_type": "markdown",
      "metadata": {
        "id": "NkyRNm9F-vK1"
      },
      "source": [
        "### Find how many songs every user hasn't rated at all at the matrix (total zeros on every column)"
      ]
    },
    {
      "cell_type": "code",
      "execution_count": 18,
      "metadata": {
        "colab": {
          "base_uri": "https://localhost:8080/"
        },
        "id": "tLwxfkZC-t3h",
        "outputId": "dc609fdf-69ac-4e11-de0a-72329f9a0e02"
      },
      "outputs": [
        {
          "output_type": "stream",
          "name": "stdout",
          "text": [
            "[97705, 97352, 97381, 97617, 97669, 97718, 96390, 97614, 97669, 97200] \n",
            " [34, 387, 358, 122, 70, 21, 1349, 125, 70, 539]\n"
          ]
        }
      ],
      "source": [
        "num_of_zeros,num_of_ratings=[],[]\n",
        "cnt_zeros,cnt_other=0,0\n",
        "for user in matrix:\n",
        "  for rating in user:\n",
        "    if rating==0:\n",
        "      cnt_zeros+=1\n",
        "    else :\n",
        "      cnt_other+=1\n",
        "  num_of_zeros.append(cnt_zeros)\n",
        "  num_of_ratings.append(cnt_other)\n",
        "  cnt_zeros,cnt_other=0,0\n",
        "print(num_of_zeros[0:10],\"\\n\",num_of_ratings[0:10])\n",
        "    "
      ]
    },
    {
      "cell_type": "code",
      "source": [
        "plt.hist(num_of_zeros[0:100])   #np.random.normal(170, 10, 250)\n",
        "plt.title('Histogram of num_ratings of the first 100 Users')\n",
        "plt.ylabel('Quantity')\n",
        "plt.xlabel('Number of Null Ratings a user made')"
      ],
      "metadata": {
        "colab": {
          "base_uri": "https://localhost:8080/",
          "height": 312
        },
        "id": "cVrQwDGqetaY",
        "outputId": "5bfb881c-7eea-4944-bb35-301b49d7be26"
      },
      "execution_count": 19,
      "outputs": [
        {
          "output_type": "execute_result",
          "data": {
            "text/plain": [
              "Text(0.5, 0, 'Number of Null Ratings a user made')"
            ]
          },
          "metadata": {},
          "execution_count": 19
        },
        {
          "output_type": "display_data",
          "data": {
            "text/plain": [
              "<Figure size 432x288 with 1 Axes>"
            ],
            "image/png": "[encoded data removed]"
          },
          "metadata": {
            "needs_background": "light"
          }
        }
      ]
    },
    {
      "cell_type": "code",
      "source": [
        "plt.hist(num_of_ratings[0:100])   #np.random.normal(170, 10, 250)\n",
        "plt.title('Histogram of num_ratings of the first 100 Users')\n",
        "plt.ylabel('Quantity')\n",
        "plt.xlabel('Number of Ratings a user made')"
      ],
      "metadata": {
        "colab": {
          "base_uri": "https://localhost:8080/",
          "height": 312
        },
        "id": "FEqRNm3IfQAb",
        "outputId": "c87638fe-9301-4a8c-fabf-77805bdfb73a"
      },
      "execution_count": 20,
      "outputs": [
        {
          "output_type": "execute_result",
          "data": {
            "text/plain": [
              "Text(0.5, 0, 'Number of Ratings a user made')"
            ]
          },
          "metadata": {},
          "execution_count": 20
        },
        {
          "output_type": "display_data",
          "data": {
            "text/plain": [
              "<Figure size 432x288 with 1 Axes>"
            ],
            "image/png": "[encoded data removed]"
          },
          "metadata": {
            "needs_background": "light"
          }
        }
      ]
    },
    {
      "cell_type": "markdown",
      "source": [
        "### AS we can see, that we have a lot more \"null\" ratings than actual ratings to the matrix . So we have to find a way to replace the zeros at the matrix optimally"
      ],
      "metadata": {
        "id": "pq9_p8uCfqNe"
      }
    },
    {
      "cell_type": "markdown",
      "metadata": {
        "id": "UIUvctQ8_ugY"
      },
      "source": [
        "# Replacing the zeros of the matrix and applying the SVD transformation"
      ]
    },
    {
      "cell_type": "markdown",
      "source": [
        "###Not all user's null ratings can be replaced , because a user might have not rayed at all a genre of music."
      ],
      "metadata": {
        "id": "uFofNhCmESWR"
      }
    },
    {
      "cell_type": "code",
      "execution_count": 21,
      "metadata": {
        "colab": {
          "base_uri": "https://localhost:8080/"
        },
        "id": "JfPW4Fq377JT",
        "outputId": "af5fd56f-e30e-4b0f-c972-2fa1aa8fd336"
      },
      "outputs": [
        {
          "output_type": "stream",
          "name": "stdout",
          "text": [
            "[7260, 2119, 3432, 2183, 3065, 7260, 2043, 3065, 11083, 4712] \n",
            " [90479, 95620, 94307, 95556, 94674, 90479, 95696, 94674, 86656, 93027]\n"
          ]
        }
      ],
      "source": [
        "songs_dictionary_reversed = {}\n",
        "for song in songs_dictionary:\n",
        "    songs_dictionary_reversed[songs_dictionary[song]] = song\n",
        "\n",
        "for user in range(len(matrix)):\n",
        "    for song in range(len(np_song_list)):\n",
        "        if(matrix[user][song] == 0):\n",
        "            matrix[user][song] = ratings_sum_by_genre[str(user) + \"-\" + str(np_songs[songs_dictionary_reversed[song]][3])]   #replace with the mean value of a user to a certain genre of music\n",
        "\n",
        "num_of_zeros,num_of_ratings=[],[]\n",
        "cnt_zeros,cnt_other=0,0\n",
        "for user in matrix:\n",
        "  for rating in user:\n",
        "    if rating==0:\n",
        "      cnt_zeros+=1\n",
        "    else :\n",
        "      cnt_other+=1\n",
        "  num_of_zeros.append(cnt_zeros)\n",
        "  num_of_ratings.append(cnt_other)\n",
        "  cnt_zeros,cnt_other=0,0\n",
        "print(num_of_zeros[0:10],\"\\n\",num_of_ratings[0:10])"
      ]
    },
    {
      "cell_type": "code",
      "source": [
        "plt.hist(num_of_zeros[0:100])   #np.random.normal(170, 10, 250)\n",
        "plt.title('Histogram of num_ratings of the first 100 Users')\n",
        "plt.ylabel('Quantity')\n",
        "plt.xlabel('Number of Null Ratings a user made')"
      ],
      "metadata": {
        "colab": {
          "base_uri": "https://localhost:8080/",
          "height": 312
        },
        "id": "haavTPXZFLf7",
        "outputId": "f4586d45-f021-422a-8e3a-61b806a10b36"
      },
      "execution_count": 22,
      "outputs": [
        {
          "output_type": "execute_result",
          "data": {
            "text/plain": [
              "Text(0.5, 0, 'Number of Null Ratings a user made')"
            ]
          },
          "metadata": {},
          "execution_count": 22
        },
        {
          "output_type": "display_data",
          "data": {
            "text/plain": [
              "<Figure size 432x288 with 1 Axes>"
            ],
            "image/png": "[encoded data removed]"
          },
          "metadata": {
            "needs_background": "light"
          }
        }
      ]
    },
    {
      "cell_type": "code",
      "source": [
        "plt.hist(num_of_ratings[0:100])   #np.random.normal(170, 10, 250)\n",
        "plt.title('Histogram of num_ratings of the first 100 Users')\n",
        "plt.ylabel('Quantity')\n",
        "plt.xlabel('Number of Ratings a user made')"
      ],
      "metadata": {
        "colab": {
          "base_uri": "https://localhost:8080/",
          "height": 312
        },
        "id": "rh4z9S7LFRve",
        "outputId": "614ffd9d-9878-44b2-cb98-93e80a6225b5"
      },
      "execution_count": 23,
      "outputs": [
        {
          "output_type": "execute_result",
          "data": {
            "text/plain": [
              "Text(0.5, 0, 'Number of Ratings a user made')"
            ]
          },
          "metadata": {},
          "execution_count": 23
        },
        {
          "output_type": "display_data",
          "data": {
            "text/plain": [
              "<Figure size 432x288 with 1 Axes>"
            ],
            "image/png": "[encoded data removed]"
          },
          "metadata": {
            "needs_background": "light"
          }
        }
      ]
    },
    {
      "cell_type": "code",
      "source": [
        "### This is a simpler strategy to replace te zeros, based only on the mean(ratings) by user, without taking the genre into consideration ###\n",
        "for user in matrix:\n",
        "    m = np.mean(user[user > 0])\n",
        "    user[user == 0] = m\n",
        " \n",
        "KapaParameter = 100   \n",
        "U, S, VT = np.linalg.svd(matrix, full_matrices = False)\n",
        "U = U[:, :KapaParameter]\n",
        "S = S[:KapaParameter]\n",
        "V = VT[:KapaParameter, :].T"
      ],
      "metadata": {
        "id": "s9j6FC4pgYg4"
      },
      "execution_count": 24,
      "outputs": []
    },
    {
      "cell_type": "code",
      "source": [
        "num_of_zeros,num_of_ratings=[],[]\n",
        "cnt_zeros,cnt_other=0,0\n",
        "for user in matrix:\n",
        "  for rating in user:\n",
        "    if rating==0:\n",
        "      cnt_zeros+=1\n",
        "    else :\n",
        "      cnt_other+=1\n",
        "  num_of_zeros.append(cnt_zeros)\n",
        "  num_of_ratings.append(cnt_other)\n",
        "  cnt_zeros,cnt_other=0,0\n",
        "print(num_of_zeros[0:10],\"\\n\",num_of_ratings[0:10])"
      ],
      "metadata": {
        "colab": {
          "base_uri": "https://localhost:8080/"
        },
        "id": "l8Wc-4_Cga2l",
        "outputId": "e14aa3d8-87ea-476e-9bff-a8579d162f8b"
      },
      "execution_count": 25,
      "outputs": [
        {
          "output_type": "stream",
          "name": "stdout",
          "text": [
            "[0, 0, 0, 0, 0, 0, 0, 0, 0, 0] \n",
            " [97739, 97739, 97739, 97739, 97739, 97739, 97739, 97739, 97739, 97739]\n"
          ]
        }
      ]
    },
    {
      "cell_type": "markdown",
      "source": [
        "### as we can see, after SVD we have no null values , beacause we replaced all remaing zeros with the mean value of all ratings that a user have made"
      ],
      "metadata": {
        "id": "Lw38S8xQEwvL"
      }
    },
    {
      "cell_type": "markdown",
      "metadata": {
        "id": "ohd-nU5H8bEJ"
      },
      "source": [
        "# Printing the shapes of the new matrices"
      ]
    },
    {
      "cell_type": "code",
      "execution_count": 26,
      "metadata": {
        "colab": {
          "base_uri": "https://localhost:8080/"
        },
        "id": "NjN6SNv4yvfl",
        "outputId": "6e98946f-9394-406a-f4b4-cc1ef1099a59"
      },
      "outputs": [
        {
          "output_type": "stream",
          "name": "stdout",
          "text": [
            "Initial matrix :1000x97739\n",
            "Users vector U :1000x100\n",
            "Sigma matrix Σ :100x100\n",
            "Songs vector V :97739x100\n"
          ]
        }
      ],
      "source": [
        "print(\"Initial matrix :\" + str(matrix.shape[0]) + \"x\" + str(matrix.shape[1]))\n",
        "print(\"Users vector U :\" + str(U.shape[0]) + \"x\" + str(U.shape[1]))\n",
        "print(\"Sigma matrix Σ :\" + str(S.shape[0]) + \"x\" + str(S.shape[0]))\n",
        "print(\"Songs vector V :\" + str(V.shape[0]) + \"x\" + str(V.shape[1]))"
      ]
    },
    {
      "cell_type": "markdown",
      "metadata": {
        "id": "Z0bdzeyj_YcC"
      },
      "source": [
        "# Computing similarities between users"
      ]
    },
    {
      "cell_type": "code",
      "execution_count": 27,
      "metadata": {
        "colab": {
          "base_uri": "https://localhost:8080/"
        },
        "id": "2nnju2qv_fqm",
        "outputId": "7644f258-aed6-415d-f347-5fbdb994a4ad"
      },
      "outputs": [
        {
          "output_type": "stream",
          "name": "stdout",
          "text": [
            "Similarity between user0 and user10 :-0.05674016471414878\n"
          ]
        }
      ],
      "source": [
        "from scipy import spatial\n",
        "\n",
        "### The person of interest ###\n",
        "user_id = 0\n",
        "### The similirities of this person with the rest users ###\n",
        "similarities = []\n",
        "for user in range(limit_for_users): \n",
        "    similarities.append([user, 1 - spatial.distance.cosine(U[user_id], U[user])])\n",
        "\n",
        "print(\"Similarity between user\" + str(user_id) + \" and user10 :\" + str(similarities[10][1]))\n",
        "n_closest = 5\n",
        "similarities.sort(reverse = True, key = lambda x:x[1])\n",
        "similarities = similarities[1:n_closest + 1]"
      ]
    },
    {
      "cell_type": "code",
      "execution_count": 28,
      "metadata": {
        "colab": {
          "base_uri": "https://localhost:8080/"
        },
        "id": "XnpMOeD_eOKt",
        "outputId": "d7e6cee7-363b-43b1-a3c8-d5dd7c5593c8"
      },
      "outputs": [
        {
          "output_type": "stream",
          "name": "stdout",
          "text": [
            "-0.05674016471414878\n"
          ]
        }
      ],
      "source": [
        "total_similarities = []\n",
        "for user0 in range(limit_for_users):\n",
        "    similarities = []\n",
        "    for user1 in range(limit_for_users): \n",
        "        similarities.append(1 - spatial.distance.cosine(U[user0], U[user1]))\n",
        "    total_similarities.append(similarities)\n",
        "\n",
        "np_total_similarities = np.array(total_similarities)\n",
        "print(np_total_similarities[0][10])"
      ]
    },
    {
      "cell_type": "markdown",
      "metadata": {
        "id": "RUAvZDA38tbq"
      },
      "source": [
        "# Predicting ratings based on the new matrices"
      ]
    },
    {
      "cell_type": "code",
      "execution_count": 29,
      "metadata": {
        "colab": {
          "base_uri": "https://localhost:8080/"
        },
        "id": "3kokt5O6gCCK",
        "outputId": "f32887c4-2fcb-44d6-c11d-a4a2878a963a"
      },
      "outputs": [
        {
          "output_type": "stream",
          "name": "stdout",
          "text": [
            "Prediction : The user with id = 0 would rate with 4.799121393576917 the song with id = 7172, while the actual rating is 5\n"
          ]
        }
      ],
      "source": [
        "ratings_columns = [\"User\", \"Song\", \"Rating\"]\n",
        "test_ratings = pd.read_csv(directory + \"test_0.txt\", header = None, sep = '\\t', names = ratings_columns)\n",
        "\n",
        "np_test_ratings = np.array(test_ratings)\n",
        "predicted_ratings = []\n",
        "for rating in np_test_ratings:\n",
        "    if rating[0] < limit_for_users and rating[1] in np_song_list:\n",
        "        similarities_list = np_total_similarities[rating[0]]\n",
        "        similarities_list_with_index = []\n",
        "        for sim in range(len(similarities_list)):\n",
        "            similarities_list_with_index.append([sim, similarities_list[sim]])\n",
        "        similarities_list_with_index.sort(key = lambda x: x[1], reverse = True)\n",
        "        similar_users = similarities_list_with_index[:n_closest]\n",
        "        prediction = 0\n",
        "        denominator = 0\n",
        "        for similar_user in similar_users:\n",
        "            prediction += matrix[similar_user[0]][songs_dictionary[rating[1]]] * similar_user[1]\n",
        "            denominator += similar_user[1]\n",
        "        predicted_ratings.append([rating[0], rating[1], prediction / denominator, rating[2]])\n",
        "\n",
        "predicted_ratings\n",
        "print(\"Prediction : The user with id = \" + str(predicted_ratings[0][0]) + \" would rate with \" + str(predicted_ratings[0][2]) + \" the song with id = \" + str(predicted_ratings[0][1] + 1) + \", while the actual rating is \" + str(predicted_ratings[0][3]))"
      ]
    },
    {
      "cell_type": "markdown",
      "metadata": {
        "id": "2_eoo3SAfwHJ"
      },
      "source": [
        "# Defining the mean error of our prediction"
      ]
    },
    {
      "cell_type": "code",
      "execution_count": 30,
      "metadata": {
        "colab": {
          "base_uri": "https://localhost:8080/"
        },
        "id": "KHwgwMdG9S44",
        "outputId": "6f13142f-2468-46af-e7af-2f9b93db9867"
      },
      "outputs": [
        {
          "output_type": "stream",
          "name": "stdout",
          "text": [
            "2.126643347338841\n"
          ]
        }
      ],
      "source": [
        "import math\n",
        "\n",
        "total_error = 0\n",
        "for prediction in predicted_ratings:\n",
        "    total_error += (prediction[3] - prediction[2]) ** 2\n",
        "mean_error = total_error / len(predicted_ratings)\n",
        "print(mean_error)"
      ]
    },
    {
      "cell_type": "markdown",
      "metadata": {
        "id": "nCU2WY0Nf9xo"
      },
      "source": [
        "# Showing the mean error if our predictions were totally random"
      ]
    },
    {
      "cell_type": "code",
      "execution_count": 31,
      "metadata": {
        "colab": {
          "base_uri": "https://localhost:8080/"
        },
        "id": "W7geDHzCZu3g",
        "outputId": "de1c3789-0d47-4225-fdcd-6e920985ccc4"
      },
      "outputs": [
        {
          "output_type": "stream",
          "name": "stdout",
          "text": [
            "6.218075491759702\n"
          ]
        }
      ],
      "source": [
        "random_predicted_ratings = []\n",
        "for rating in np_test_ratings:\n",
        "    if rating[0] < limit_for_users and rating[1] in np_song_list:\n",
        "        random_predicted_ratings.append([rating[0], rating[1], np.ushort(np.random.randint(0, 6)), rating[2]])\n",
        "\n",
        "total_error = 0\n",
        "for prediction in random_predicted_ratings:\n",
        "    total_error += (prediction[3] - prediction[2]) ** 2\n",
        "mean_error = total_error / len(random_predicted_ratings)\n",
        "print(mean_error)"
      ]
    },
    {
      "cell_type": "markdown",
      "metadata": {
        "id": "qgJXLcmnqHr3"
      },
      "source": [
        "# Recommending songs for any user\n",
        "###(insert a user id from keyboard while running this cell)"
      ]
    },
    {
      "cell_type": "code",
      "execution_count": 34,
      "metadata": {
        "id": "imi4VKOkqMvf",
        "colab": {
          "base_uri": "https://localhost:8080/"
        },
        "outputId": "46103f29-328d-43ff-d828-0d19acac7ad9"
      },
      "outputs": [
        {
          "output_type": "stream",
          "name": "stdout",
          "text": [
            "Please insert the id of the user 33\n",
            "Recommendations for user with id->33 : \n",
            "1. 33079\n",
            "2. 108811\n",
            "3. 70476\n",
            "4. 24964\n",
            "5. 64330\n"
          ]
        }
      ],
      "source": [
        "user_id = int(input(\"Please insert the id of the user \"))\n",
        "while(user_id < 0 or user_id > 999):\n",
        "    user_id = int(input(\"Please insert a valid id for the user (integer between 0 and 999) \"))\n",
        "\n",
        "predicted_ratings_for_user = []\n",
        "similarities_list = np_total_similarities[user_id]\n",
        "similarities_list_with_index = []\n",
        "for sim in range(len(similarities_list)):\n",
        "    similarities_list_with_index.append([sim, similarities_list[sim]])\n",
        "similarities_list_with_index.sort(key = lambda x: x[1], reverse = True)\n",
        "similar_users = similarities_list_with_index[:n_closest]\n",
        "for song in np_song_list:\n",
        "    prediction = 0\n",
        "    denominator = 0\n",
        "    for similar_user in similar_users:\n",
        "        prediction += matrix[similar_user[0]][songs_dictionary[song]] * similar_user[1]\n",
        "        denominator += similar_user[1]\n",
        "    predicted_ratings_for_user.append([song, prediction / denominator])\n",
        "predicted_ratings_for_user.sort(key = lambda x: x[1], reverse = True)\n",
        "recommendations = predicted_ratings_for_user[:5]\n",
        "print(\"Recommendations for user with id->\" + str(user_id) + \" : \")\n",
        "count = 1\n",
        "for song in recommendations:\n",
        "    print(str(count) + \". \" + str(song[0]))\n",
        "    count = count + 1"
      ]
    },
    {
      "cell_type": "markdown",
      "source": [
        "### Show the recommendations of 5 random users  "
      ],
      "metadata": {
        "id": "Z6yRDolb_SUj"
      }
    },
    {
      "cell_type": "code",
      "source": [
        "import random\n",
        "\n",
        "for times in range(5):\n",
        "  user_id=random.randrange(1000)  #random integer between 0 and 999\n",
        "  predicted_ratings_for_user = []\n",
        "  similarities_list = np_total_similarities[user_id]\n",
        "  similarities_list_with_index = []\n",
        "  for sim in range(len(similarities_list)):\n",
        "      similarities_list_with_index.append([sim, similarities_list[sim]])\n",
        "  similarities_list_with_index.sort(key = lambda x: x[1], reverse = True)\n",
        "  similar_users = similarities_list_with_index[:n_closest]\n",
        "  for song in np_song_list:\n",
        "      prediction = 0\n",
        "      denominator = 0\n",
        "      for similar_user in similar_users:\n",
        "          prediction += matrix[similar_user[0]][songs_dictionary[song]] * similar_user[1]\n",
        "          denominator += similar_user[1]\n",
        "      predicted_ratings_for_user.append([song, prediction / denominator])\n",
        "  predicted_ratings_for_user.sort(key = lambda x: x[1], reverse = True)\n",
        "  recommendations = predicted_ratings_for_user[:5]\n",
        "  print(\"Recommendations for user with id->\" + str(user_id) + \" : \")\n",
        "  count = 1\n",
        "  for song in recommendations:\n",
        "      print(str(count) + \". \" + str(song[0]))\n",
        "      count = count + 1\n"
      ],
      "metadata": {
        "colab": {
          "base_uri": "https://localhost:8080/"
        },
        "id": "e0g7EB1Q_6FD",
        "outputId": "a86a8dc1-dd26-4ad1-f2d4-69c8637ff3bf"
      },
      "execution_count": 33,
      "outputs": [
        {
          "output_type": "stream",
          "name": "stdout",
          "text": [
            "Recommendations for user with id->994 : \n",
            "1. 44496\n",
            "2. 30628\n",
            "3. 136004\n",
            "4. 124014\n",
            "5. 42781\n",
            "Recommendations for user with id->771 : \n",
            "1. 8063\n",
            "2. 95927\n",
            "3. 134732\n",
            "4. 5631\n",
            "5. 13859\n",
            "Recommendations for user with id->738 : \n",
            "1. 27058\n",
            "2. 1022\n",
            "3. 6054\n",
            "4. 6085\n",
            "5. 7520\n",
            "Recommendations for user with id->80 : \n",
            "1. 23676\n",
            "2. 119065\n",
            "3. 20546\n",
            "4. 12\n",
            "5. 43\n",
            "Recommendations for user with id->57 : \n",
            "1. 17274\n",
            "2. 67065\n",
            "3. 116928\n",
            "4. 103428\n",
            "5. 9\n"
          ]
        }
      ]
    }
  ],
  "metadata": {
    "colab": {
      "provenance": []
    },
    "kernelspec": {
      "display_name": "Python 3",
      "name": "python3"
    },
    "language_info": {
      "name": "python"
    }
  },
  "nbformat": 4,
  "nbformat_minor": 0
}